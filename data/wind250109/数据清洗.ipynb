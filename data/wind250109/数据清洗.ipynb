{
 "cells": [
  {
   "cell_type": "markdown",
   "metadata": {},
   "source": [
    "## 1.清洗沪深300成分股技术指标"
   ]
  },
  {
   "cell_type": "code",
   "execution_count": 16,
   "metadata": {},
   "outputs": [
    {
     "name": "stdout",
     "output_type": "stream",
     "text": [
      "已保存 Sheet1 到 0109沪深300股票1/undefined_Sheet1_processed.xlsx\n",
      "已保存 中国石化 到 0109沪深300股票1/600028.SH_中国石化_processed.xlsx\n",
      "已保存 南方航空 到 0109沪深300股票1/600029.SH_南方航空_processed.xlsx\n",
      "已保存 中信证券 到 0109沪深300股票1/600030.SH_中信证券_processed.xlsx\n",
      "已保存 三一重工 到 0109沪深300股票1/600031.SH_三一重工_processed.xlsx\n",
      "已保存 招商银行 到 0109沪深300股票1/600036.SH_招商银行_processed.xlsx\n",
      "已保存 四川路桥 到 0109沪深300股票1/600039.SH_四川路桥_processed.xlsx\n",
      "已保存 保利发展 到 0109沪深300股票1/600048.SH_保利发展_processed.xlsx\n",
      "已保存 中国联通 到 0109沪深300股票1/600050.SH_中国联通_processed.xlsx\n",
      "已保存 上汽集团 到 0109沪深300股票1/600104.SH_上汽集团_processed.xlsx\n",
      "已保存 北方稀土 到 0109沪深300股票1/600111.SH_北方稀土_processed.xlsx\n",
      "已保存 片仔癀 到 0109沪深300股票1/600436.SH_片仔癀_processed.xlsx\n",
      "已保存 贵州茅台 到 0109沪深300股票1/600519.SH_贵州茅台_processed.xlsx\n",
      "已保存 青岛啤酒 到 0109沪深300股票1/600600.SH_青岛啤酒_processed.xlsx\n",
      "已保存 福耀玻璃 到 0109沪深300股票1/600660.SH_福耀玻璃_processed.xlsx\n"
     ]
    }
   ],
   "source": [
    "import os\n",
    "import pandas as pd\n",
    "\n",
    "def process_excel(input_file, output_folder, rows, cols):\n",
    "    \"\"\"\n",
    "    读取 Excel 文件的每个 sheet 的指定行列，并分别保存到新的文件中，确保格式不变。\n",
    "    \n",
    "    :param input_file: 输入的 Excel 文件路径\n",
    "    :param output_folder: 输出文件夹路径\n",
    "    :param rows: 指定的行范围（从1开始计数）\n",
    "    :param cols: 指定的列索引（从0开始）\n",
    "    \"\"\"\n",
    "    # 确保输出文件夹存在\n",
    "    os.makedirs(output_folder, exist_ok=True)\n",
    "    \n",
    "    # 读取输入文件的所有 sheet\n",
    "    excel_data = pd.ExcelFile(input_file)\n",
    "    \n",
    "    for sheet_name in excel_data.sheet_names:\n",
    "        # 读取当前 sheet，禁用日期解析\n",
    "        sheet_df = pd.read_excel(input_file, sheet_name=sheet_name, engine='openpyxl', dtype=str)\n",
    "        \n",
    "        # 提取第 2 行 B 列的内容作为输出文件名的一部分\n",
    "        try:\n",
    "            output_file_part = sheet_df.iloc[0, 1]  # 第 2 行 B 列（行索引从0开始，第 2 行是索引1，第 B 列是索引1）\n",
    "        except IndexError:\n",
    "            output_file_part = \"undefined\"  # 如果第 2 行 B 列没有内容，设置默认值\n",
    "        \n",
    "        # 提取指定行和列的数据\n",
    "        selected_data = sheet_df.iloc[rows[0]-1:rows[1], cols[0]:cols[1]]\n",
    "        \n",
    "        # 构建输出文件路径（增加 sheet_name 确保唯一性）\n",
    "        output_file = f\"{output_folder}/{output_file_part}_{sheet_name}_processed.xlsx\"\n",
    "        \n",
    "        # 写入新的文件，指定日期格式\n",
    "        with pd.ExcelWriter(output_file, engine='openpyxl', datetime_format='yyyy/mm/dd') as writer:\n",
    "            selected_data.to_excel(writer, index=False, sheet_name=sheet_name)\n",
    "        \n",
    "        print(f\"已保存 {sheet_name} 到 {output_file}\")\n",
    "\n",
    "# 示例用法\n",
    "input_file = \"带技术指标/工作簿5-14.xlsx\"  # 输入文件路径\n",
    "output_folder = \"0109沪深300股票1\"  # 输出文件夹路径\n",
    "rows = (2, 250)  # 指定行范围（从第3行到第250行）\n",
    "cols = (0, 84)  # 指定列索引（从第0列到第84列）\n",
    "\n",
    "process_excel(input_file, output_folder, rows, cols)\n"
   ]
  }
 ],
 "metadata": {
  "kernelspec": {
   "display_name": "base",
   "language": "python",
   "name": "python3"
  },
  "language_info": {
   "codemirror_mode": {
    "name": "ipython",
    "version": 3
   },
   "file_extension": ".py",
   "mimetype": "text/x-python",
   "name": "python",
   "nbconvert_exporter": "python",
   "pygments_lexer": "ipython3",
   "version": "3.11.7"
  }
 },
 "nbformat": 4,
 "nbformat_minor": 2
}
